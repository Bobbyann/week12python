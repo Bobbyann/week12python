{
 "cells": [
  {
   "cell_type": "markdown",
   "metadata": {},
   "source": [
    "# Welcome to CS 140: Python Unit, Part 1\n",
    "This Notebook is for the first few weeks in Python, we will transition to making our own standalone applications in Part 2!\n",
    "\n",
    "**Make a new Code cell by clicking the + Code button at the top of the notebook.**"
   ]
  },
  {
   "cell_type": "code",
   "execution_count": 14,
   "metadata": {},
   "outputs": [
    {
     "ename": "SyntaxError",
     "evalue": "invalid syntax (3368148535.py, line 8)",
     "output_type": "error",
     "traceback": [
      "\u001b[0;36m  Cell \u001b[0;32mIn[14], line 8\u001b[0;36m\u001b[0m\n\u001b[0;31m    else:\u001b[0m\n\u001b[0m    ^\u001b[0m\n\u001b[0;31mSyntaxError\u001b[0m\u001b[0;31m:\u001b[0m invalid syntax\n"
     ]
    }
   ],
   "source": [
    "condition = 5 > 500\n",
    "print(condition)\n",
    "\n",
    "\n",
    "if 5 > 500:\n",
    "    print(\"This statement is true\")\n",
    "\n",
    "    else: \n",
    "    print(This statement is false)\n",
    "\n",
    "    if 5 < 500:\n",
    "     print(\"This statement is true\")\n",
    "\n",
    "       else: \n",
    "     print(This statement is false)"
   ]
  },
  {
   "cell_type": "code",
   "execution_count": 19,
   "metadata": {},
   "outputs": [
    {
     "name": "stdout",
     "output_type": "stream",
     "text": [
      "You are an adult\n"
     ]
    }
   ],
   "source": [
    "age = input(\"What is your age?\")\n",
    "\n",
    "\n",
    "if int(age) >= 18:\n",
    "    print(\"You are an adult\")\n",
    "    \n",
    "\n",
    "else:\n",
    "    print(\"You are underage\")"
   ]
  }
 ],
 "metadata": {
  "kernelspec": {
   "display_name": "Python 3",
   "language": "python",
   "name": "python3"
  },
  "language_info": {
   "codemirror_mode": {
    "name": "ipython",
    "version": 3
   },
   "file_extension": ".py",
   "mimetype": "text/x-python",
   "name": "python",
   "nbconvert_exporter": "python",
   "pygments_lexer": "ipython3",
   "version": "3.10.13"
  }
 },
 "nbformat": 4,
 "nbformat_minor": 2
}
